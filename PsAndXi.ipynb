{
 "cells": [
  {
   "cell_type": "code",
   "execution_count": 1,
   "metadata": {},
   "outputs": [],
   "source": [
    "import numpy as np\n",
    "import matplotlib.pyplot as plt\n",
    "import scipy as sp\n",
    "from scipy import stats as stats\n",
    "import healpy as hp"
   ]
  },
  {
   "cell_type": "code",
   "execution_count": 140,
   "metadata": {},
   "outputs": [],
   "source": [
    "sigmal=50\n",
    "Ampl=1e-8\n",
    "def Cell(ells):\n",
    "    return Ampl*np.exp(-ells**2/(sigmal**2))\n",
    "\n",
    "def Xi(theta):\n",
    "    return Ampl*sigmal**2/(4*np.pi)*np.exp(-theta**2*sigmal**2/4)"
   ]
  },
  {
   "cell_type": "code",
   "execution_count": 141,
   "metadata": {},
   "outputs": [
    {
     "name": "stdout",
     "output_type": "stream",
     "text": [
      "Sigma is 0.000000 arcmin (0.000000 rad) \n",
      "-> fwhm is 0.000000 arcmin\n"
     ]
    },
    {
     "name": "stderr",
     "output_type": "stream",
     "text": [
      "/home/anze/anaconda3/lib/python3.6/site-packages/healpy/sphtfunc.py:395: FutureChangeWarning: The order of the input cl's will change in a future release.\n",
      "Use new=True keyword to start using the new order.\n",
      "See documentation of healpy.synalm.\n",
      "  category=FutureChangeWarning,\n"
     ]
    }
   ],
   "source": [
    "Nside=128\n",
    "Npix=12*Nside**2\n",
    "ells=np.arange(3*Nside)\n",
    "da=hp.synfast(Cell(ells),Nside)"
   ]
  },
  {
   "cell_type": "code",
   "execution_count": 142,
   "metadata": {},
   "outputs": [
    {
     "data": {
      "text/plain": [
       "(2.0259052389848207e-06, 1.9894367886486917e-06)"
      ]
     },
     "execution_count": 142,
     "metadata": {},
     "output_type": "execute_result"
    }
   ],
   "source": [
    "(da**2).mean(), Xi(0)"
   ]
  },
  {
   "cell_type": "code",
   "execution_count": 143,
   "metadata": {},
   "outputs": [],
   "source": [
    "### MapXi\n",
    "def MapXi(map,N=10000,dtheta=0.005):\n",
    "    ## draw a subset of \n",
    "    ndx=np.random.choice(Npix,N)\n",
    "    vals=map[ndx]\n",
    "    vec=np.array(hp.pix2vec(Nside,ndx))\n",
    "    Nb=int(2*np.pi/dtheta)+1\n",
    "    xi=np.zeros(Nb)\n",
    "    we=np.zeros(Nb)\n",
    "    for i in range(N):\n",
    "        dots=vec[0,:]*vec[0,i]+vec[1,:]*vec[1,i]+vec[2,:]*vec[2,i]\n",
    "        dots[dots>1.0]=1.0\n",
    "        dots[dots<-1.0]=-1.0\n",
    "        distndx=(np.arccos(dots)/dtheta).astype('int')\n",
    "        distndx[i]=0 ## sometimes buggy\n",
    "        if (np.any(distndx<0)):\n",
    "            k=np.where(distndx<0)[0]\n",
    "            print (distndx[k],i,dots[k],'XXX')\n",
    "        #print(distndx,dots)\n",
    "        cvals=vals[i]*vals\n",
    "        #print (cvals.shape,distndx.shape)\n",
    "        #print (xi.dtype,np.bincount(distndx,weights=cvals,minlength=Nb).dtype)\n",
    "        xi+=np.bincount(distndx,weights=cvals,minlength=Nb)\n",
    "        we+=np.bincount(distndx,minlength=Nb)\n",
    "    return np.arange(Nb)*dtheta, xi/we\n",
    "        "
   ]
  },
  {
   "cell_type": "code",
   "execution_count": 144,
   "metadata": {},
   "outputs": [
    {
     "name": "stderr",
     "output_type": "stream",
     "text": [
      "/home/anze/anaconda3/lib/python3.6/site-packages/ipykernel_launcher.py:25: RuntimeWarning: invalid value encountered in true_divide\n"
     ]
    }
   ],
   "source": [
    "r,xi=MapXi(da,50000)"
   ]
  },
  {
   "cell_type": "code",
   "execution_count": 145,
   "metadata": {},
   "outputs": [
    {
     "data": {
      "text/plain": [
       "[<matplotlib.lines.Line2D at 0x14e6768236d8>]"
      ]
     },
     "execution_count": 145,
     "metadata": {},
     "output_type": "execute_result"
    },
    {
     "data": {
      "image/png": "[encoded data removed]",
      "text/plain": [
       "<Figure size 432x288 with 1 Axes>"
      ]
     },
     "metadata": {},
     "output_type": "display_data"
    }
   ],
   "source": [
    "plt.plot(r[:20],xi[:20],'bo-')\n",
    "plt.plot(r[:20],Xi(r[:20]),'r-')"
   ]
  },
  {
   "cell_type": "code",
   "execution_count": 133,
   "metadata": {},
   "outputs": [
    {
     "data": {
      "text/plain": [
       "8.05319300827294e-06"
      ]
     },
     "execution_count": 133,
     "metadata": {},
     "output_type": "execute_result"
    }
   ],
   "source": []
  },
  {
   "cell_type": "code",
   "execution_count": null,
   "metadata": {},
   "outputs": [],
   "source": []
  }
 ],
 "metadata": {
  "kernelspec": {
   "display_name": "Python 3",
   "language": "python",
   "name": "python3"
  },
  "language_info": {
   "codemirror_mode": {
    "name": "ipython",
    "version": 3
   },
   "file_extension": ".py",
   "mimetype": "text/x-python",
   "name": "python",
   "nbconvert_exporter": "python",
   "pygments_lexer": "ipython3",
   "version": "3.6.5"
  }
 },
 "nbformat": 4,
 "nbformat_minor": 2
}
