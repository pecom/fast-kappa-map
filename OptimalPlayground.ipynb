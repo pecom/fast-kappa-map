{
 "cells": [
  {
   "cell_type": "code",
   "execution_count": 1,
   "metadata": {},
   "outputs": [],
   "source": [
    "import numpy as np\n",
    "import matplotlib.pyplot as plt\n",
    "import scipy as sp\n",
    "from scipy import stats as stats\n",
    "import healpy as hp\n",
    "%matplotlib inline\n",
    "%config InlineBackend.figure_format='retina'\n",
    "from SphericalDiff import *\n",
    "from tqdm import tqdm_notebook as tqdm\n",
    "from IPython.utils import io"
   ]
  },
  {
   "cell_type": "code",
   "execution_count": 2,
   "metadata": {},
   "outputs": [],
   "source": [
    "Nside=128\n",
    "Npix=hp.nside2npix(Nside)\n",
    "Ampl=1e-5\n",
    "Sigmal=100"
   ]
  },
  {
   "cell_type": "code",
   "execution_count": 3,
   "metadata": {},
   "outputs": [],
   "source": [
    "# (theta, phi) -> (x,y,z)\n",
    "def Ang2Vec(theta,phi):\n",
    "    return np.array([np.sin(theta)*np.cos(phi),np.sin(theta)*np.sin(phi),np.cos(theta)])"
   ]
  },
  {
   "cell_type": "code",
   "execution_count": 4,
   "metadata": {},
   "outputs": [],
   "source": [
    "def Cell(ells, ampl=Ampl, sigmal=Sigmal):\n",
    "    return ampl*np.exp(-ells**2/(sigmal**2))\n",
    "\n",
    "def Xi(theta, ampl=Ampl, sigmal=Sigmal):\n",
    "    return ampl*sigmal**2/(4*np.pi)*np.exp((-theta**2*sigmal**2)/4)"
   ]
  },
  {
   "cell_type": "code",
   "execution_count": 5,
   "metadata": {},
   "outputs": [],
   "source": [
    "#Make gaussian kappa with amplitude and sigma\n",
    "## let's make a full sky map of gaussiana\n",
    "def setup_kappa(ampl=1e-8, sigmal=100):\n",
    "    ells=np.arange(3*Nside)\n",
    "    Cl=Cell(ells, ampl, sigmal)\n",
    "    kappa=hp.synfast(Cl,Nside)\n",
    "#     kappa = np.ones(Npix)*ampl\n",
    "    ## now multiply with a Gaussian taper:\n",
    "    theta,phi=hp.pix2ang(Nside,np.arange(Npix))\n",
    "    dec=theta-np.pi/2\n",
    "    phi[phi>np.pi]=phi[phi>np.pi]-2*np.pi\n",
    "    kappa*=np.exp(-(dec**2+phi**2)/(2*0.1**2))    \n",
    "    kappa=SphericalMap(kappa)\n",
    "    return kappa"
   ]
  },
  {
   "cell_type": "code",
   "execution_count": 6,
   "metadata": {},
   "outputs": [],
   "source": [
    "# Distribute points in a box of size=(.1 radians)^2 and then displace them with the kappa\n",
    "def setup_points(kappa, N, size=0.1):\n",
    "    theta=np.arccos(np.random.uniform(-1*size,1*size,N))\n",
    "    phi=np.random.uniform(-size,size,N)\n",
    "    thetap,phip=kappa.DisplaceObjects(theta,phi);\n",
    "    mpoints = np.array([thetap, phip]).T\n",
    "    tpoints = np.array([theta, phi]).T\n",
    "    return tpoints, mpoints"
   ]
  },
  {
   "cell_type": "code",
   "execution_count": 7,
   "metadata": {},
   "outputs": [],
   "source": [
    "# Given original points, displaced points, and cutoff radius, generate the data vector and associated noise\n",
    "def make_kappa(tpoints, mpoints, sradius, noiseofs=0.0, noisemult=1.0):\n",
    "    new_kappa = []\n",
    "    new_noise = []\n",
    "    noisevar = []\n",
    "    id1 = []\n",
    "    id2 = []\n",
    "    num_dots = len(tpoints)\n",
    "    for i in tqdm(range(num_dots)):\n",
    "        for j in range(i):\n",
    "            vit = Ang2Vec(*tpoints[i])\n",
    "            vjt = Ang2Vec(*tpoints[j])\n",
    "            true_dist = np.linalg.norm(vit - vjt)\n",
    "            if true_dist < sradius:\n",
    "                id1.append(i)\n",
    "                id2.append(j)\n",
    "                vim = Ang2Vec(*mpoints[i])\n",
    "                vjm = Ang2Vec(*mpoints[j])\n",
    "                mod_dist = np.linalg.norm(vim - vjm)\n",
    "                noise_rms = noiseofs+noisemult*true_dist\n",
    "                noise_sig = noise_rms*np.random.normal(0,1)\n",
    "                noisevar.append(noise_rms**2)\n",
    "                new_kappa.append((mod_dist - true_dist)/true_dist)\n",
    "                new_noise.append(noise_sig)\n",
    "    new_kappa=np.array(new_kappa)\n",
    "    new_noise=np.array(new_noise)\n",
    "    noisevar=np.array(noisevar)\n",
    "    return id1, id2, new_kappa, new_noise, noisevar"
   ]
  },
  {
   "cell_type": "code",
   "execution_count": 49,
   "metadata": {},
   "outputs": [],
   "source": [
    "# Generate clte/cltt and clte/sqrt plots given the CLs\n",
    "# Can choose to keep or remove monopole & dipole\n",
    "def make_plots(true, reconstruct, plot, title = \"method\", cut_dipole=True):\n",
    "    maxl = (3*Nside - 1)\n",
    "    cltt = hp.anafast(true, true, lmax=maxl)\n",
    "    clte = hp.anafast(true, reconstruct, lmax=maxl)\n",
    "    clee = hp.anafast(reconstruct, reconstruct, lmax=maxl)\n",
    "    if cut_dipole:\n",
    "        plot1 = (clte/cltt)[2:]\n",
    "        plot2 = (clte/np.sqrt(cltt*clee))[2:]\n",
    "    else:\n",
    "        plot1 = (clte/cltt)\n",
    "        plot2 = (clte/np.sqrt(cltt*clee))\n",
    "        \n",
    "    if plot:\n",
    "        fig, ax = plt.subplots(1,2, figsize=(10,5))\n",
    "        ax[0].plot(plot1)\n",
    "        ax[0].set_title(title + \" - clte/cltt\")\n",
    "        ax[1].plot(plot2)\n",
    "        ax[1].set_title(title + \" - clte/sqrt\")\n",
    "        \n",
    "    return plot1, plot2"
   ]
  },
  {
   "cell_type": "code",
   "execution_count": 9,
   "metadata": {},
   "outputs": [],
   "source": [
    "# Make a diagonal sparse matrix which has values of 1/noise\n",
    "def make_diag_inverse(diag):\n",
    "    size = len(diag)\n",
    "    cleaned_diag = [1/n if n!=0 else 1 for n in diag]\n",
    "    dia_n = sp.sparse.dia_matrix((cleaned_diag, 0), shape=(size,size)).tocsc()\n",
    "    return dia_n"
   ]
  },
  {
   "cell_type": "code",
   "execution_count": 10,
   "metadata": {},
   "outputs": [],
   "source": [
    "# Setup needed for midpoint method\n",
    "def mid_setup(id1, id2, mpoints):\n",
    "    p1 = []\n",
    "    p2 = []\n",
    "    for i in tqdm(range(len(id1))):\n",
    "        p1.append(Ang2Vec(*mpoints[id1[i]]))\n",
    "        p2.append(Ang2Vec(*mpoints[id2[i]]))\n",
    "    np1 = np.array(p1)\n",
    "    np2 = np.array(p2)\n",
    "    return np1, np2"
   ]
  },
  {
   "cell_type": "code",
   "execution_count": 11,
   "metadata": {},
   "outputs": [],
   "source": [
    "#Setup needed for optimal method\n",
    "def optimal_setup(tpoints, sradius = 1/180*np.pi):\n",
    "#     pixid = np.array(list(set(hp.ang2pix(Nside, tpoints[:,0], tpoints[:,1]))))\n",
    "    points = Ang2Vec(tpoints[:,0], tpoints[:,1]).T\n",
    "    bigid = np.array([hp.query_disc(Nside, p, sradius) for p in points])\n",
    "    pixid = np.array(list(set(np.concatenate(bigid, axis=0))))\n",
    "#     pixid = np.array(list(set(hp.get_all_neighbours(Nside, hp.ang2pix(Nside, tpoints[:,0], tpoints[:,1])).flatten())))\n",
    "    hpx = {}\n",
    "    pxd = {}\n",
    "    for c,v in enumerate(pixid):\n",
    "        hpx[v] = hp.pix2vec(Nside,v)\n",
    "        pxd[v] = c\n",
    "    hpix=hpx\n",
    "    pixdict = pxd\n",
    "    sigma=np.sqrt(4*np.pi/(12*Nside**2))        \n",
    "    sigweight = 2*sigma**2\n",
    "\n",
    "    return pixid, hpix, pixdict, sigweight"
   ]
  },
  {
   "cell_type": "code",
   "execution_count": 12,
   "metadata": {},
   "outputs": [],
   "source": [
    "def prime_setup(mpoints):\n",
    "    hpx = {}\n",
    "    pxd = {}\n",
    "    p1, p2 = mid_setup(id1, id2, mpoints)\n",
    "    m1 = (p1+p2)*.5\n",
    "    mid = m1/np.linalg.norm(m1)\n",
    "    hp_points = hp.vec2pix(Nside, mid.T[0], mid.T[1], mid.T[2])\n",
    "#     allpoints = np.concatenate((hp_points, pixid))\n",
    "#     iterpoints = np.array(list(set(allpoints)))\n",
    "    iterpoints = np.array(list(set(hp_points)))\n",
    "    for c,v in enumerate(iterpoints):\n",
    "        hpx[v] = hp.pix2vec(Nside,v)\n",
    "        pxd[v] = c\n",
    "    return iterpoints, hpx, pxd"
   ]
  },
  {
   "cell_type": "code",
   "execution_count": 13,
   "metadata": {},
   "outputs": [],
   "source": [
    "# Concise midpoint estimator\n",
    "def big_mid(p1, p2, kappa, noisevar):\n",
    "    m1 = (p1+p2)*.5\n",
    "    mid = m1/np.linalg.norm(m1)\n",
    "    hp_points = hp.vec2pix(Nside, mid.T[0], mid.T[1], mid.T[2])\n",
    "    signal = np.bincount(hp_points, weights=kappa/noisevar, minlength=Npix)\n",
    "    weight = np.bincount(hp_points, weights=1/noisevar, minlength=Npix)\n",
    "    return signal, weight"
   ]
  },
  {
   "cell_type": "code",
   "execution_count": 44,
   "metadata": {},
   "outputs": [],
   "source": [
    "#Optimal estimator\n",
    "def optimal(qid1, qid2, kappa, sradius, points, noisevar, pixid, pixdict, hpix):\n",
    "    data = []\n",
    "    rows = []\n",
    "    columns = []\n",
    "    Nd = len(kappa)\n",
    "    Np = len(pixid)\n",
    "    pixarea = hp.nside2pixarea(Nside, False)\n",
    "    sigma=np.sqrt(4*np.pi/(12*Nside**2))        \n",
    "    sigweight = 2*sigma**2\n",
    "\n",
    "    for j in tqdm(range(Nd)):\n",
    "        qtheta1=points[qid1[j]][0]\n",
    "        qphi1=points[qid1[j]][1]\n",
    "        qtheta2=points[qid2[j]][0]\n",
    "        qphi2=points[qid2[j]][1]\n",
    "        \n",
    "        q1 = Ang2Vec(qtheta1, qphi1)\n",
    "        q2 = Ang2Vec(qtheta2, qphi2)\n",
    "        rad = np.arccos(np.dot(q1,q2))\n",
    "        qrad = rad if rad > sradius else sradius\n",
    "        neipixels1=hp.query_disc(Nside, q1, qrad)\n",
    "        neipixels2=hp.query_disc(Nside, q2, qrad)\n",
    "        \n",
    "        s = np.intersect1d(neipixels1, neipixels2)\n",
    "        ss = set(s)\n",
    "        smols = np.array([*ss.intersection(pixid)])\n",
    "        jthrow = [pixdict[l] for l in smols]\n",
    "        if (smols.shape[0] == 0):\n",
    "            continue\n",
    "        ms = np.array([hpix[x] for x in smols])\n",
    "\n",
    "        d1 = q1 - ms\n",
    "        d2 = q2 - ms\n",
    "\n",
    "        norm1 = np.einsum('ij,ij->i', d1, d1)       #Faster way to calculate norms\n",
    "        norm2 = np.einsum('ij,ij->i', d2, d2)\n",
    "\n",
    "        resp1=norm1*(1-np.exp(-norm1/(2*sigweight)))\n",
    "        resp2=norm2*(1-np.exp(-norm2/(2*sigweight)))\n",
    "\n",
    "        drr = (d1.T*resp1).T - (d2.T*resp2).T\n",
    "        dr = d1 - d2\n",
    "\n",
    "#         totresponse = -2*np.sqrt(np.einsum('ij,ij->i', drr, drr))/np.sqrt(np.einsum('ij,ij->i',dr,dr))\n",
    "        totresponse = -4*pixarea/(norm1+norm2)\n",
    "        data += list(totresponse)\n",
    "        rows += [j]*len(jthrow)\n",
    "        columns += jthrow\n",
    "\n",
    "    print(\"Creating A matrix...\")\n",
    "    A = sp.sparse.csr_matrix((data, (rows, columns)), shape=(Nd, Np))\n",
    "    return A"
   ]
  },
  {
   "cell_type": "code",
   "execution_count": 45,
   "metadata": {},
   "outputs": [],
   "source": [
    "#Optimal estimator\n",
    "def optimal_prime(qid1, qid2, kappa, sradius, points, noisevar, pixid, pixdict, hpix):\n",
    "    data = []\n",
    "    rows = []\n",
    "    columns = []\n",
    "    Nd = len(kappa)\n",
    "    Np = len(pixid)\n",
    "    pixarea = hp.nside2pixarea(Nside, False)\n",
    "    sigma=np.sqrt(4*np.pi/(12*Nside**2))        \n",
    "    sigweight = 2*sigma**2\n",
    "    for j in tqdm(range(Nd)):\n",
    "        qtheta1=points[qid1[j]][0]\n",
    "        qphi1=points[qid1[j]][1]\n",
    "        qtheta2=points[qid2[j]][0]\n",
    "        qphi2=points[qid2[j]][1]\n",
    "        \n",
    "        q1 = Ang2Vec(qtheta1, qphi1)\n",
    "        q2 = Ang2Vec(qtheta2, qphi2)\n",
    "        rad = np.arccos(np.dot(q1,q2))\n",
    "        qrad = sradius if rad > sradius else rad\n",
    "        neipixels1=hp.query_disc(Nside, q1, qrad)\n",
    "        neipixels2=hp.query_disc(Nside, q2, qrad)\n",
    "        \n",
    "        s = np.intersect1d(neipixels1, neipixels2)\n",
    "        ss = set(s)\n",
    "        smols = np.array([*ss.intersection(pixid)])\n",
    "        jthrow = [pixdict[l] for l in smols]\n",
    "        if (smols.shape[0] == 0):\n",
    "            continue\n",
    "        ms = np.array([hpix[x] for x in smols])\n",
    "\n",
    "        d1 = q1 - ms\n",
    "        d2 = q2 - ms\n",
    "\n",
    "        norm1 = np.einsum('ij,ij->i', d1, d1)       #Faster way to calculate norms\n",
    "        norm2 = np.einsum('ij,ij->i', d2, d2)\n",
    "        \n",
    "        resp1=norm1*(1-np.exp(-norm1/(2*sigweight)))\n",
    "        resp2=norm2*(1-np.exp(-norm2/(2*sigweight)))\n",
    "\n",
    "        drr = (d1.T*resp1).T - (d2.T*resp2).T\n",
    "        dr = d1 - d2\n",
    "\n",
    "#         totresponse = -2*np.sqrt(np.einsum('ij,ij->i', drr, drr))/np.sqrt(np.einsum('ij,ij->i',dr,dr))\n",
    "        totresponse = -4*pixarea/(norm1+norm2)*np.sqrt(noisevar[j])\n",
    "        data += list(totresponse)\n",
    "        rows += [j]*len(jthrow)\n",
    "        columns += jthrow\n",
    "\n",
    "    print(\"Creating A matrix...\")\n",
    "    A = sp.sparse.csr_matrix((data, (rows, columns)), shape=(Nd, Np))\n",
    "    return A"
   ]
  },
  {
   "cell_type": "code",
   "execution_count": 16,
   "metadata": {},
   "outputs": [],
   "source": [
    "# Following COBE method of mapmaking\n",
    "def cobe_makemap(A, Ninv, x):\n",
    "    print(\"Making map\")\n",
    "    At = A.T\n",
    "    print(\"Calculating W....\")\n",
    "    X = At@Ninv@A\n",
    "    Y = At@Ninv@x\n",
    "#     cmap = optimal_makemap(X, Y)[0]\n",
    "    return X, Y"
   ]
  },
  {
   "cell_type": "code",
   "execution_count": 17,
   "metadata": {},
   "outputs": [],
   "source": [
    "def iterative_cobe(A, Ninv, kap, n=10):\n",
    "    At = A.T\n",
    "    print(\"Start iterations\")\n",
    "    x_orig = cobe_makemap(A, Ninv, kap)\n",
    "    for i in tqdm(range(n)):\n",
    "        x_next = x_orig+At@Ninv@kap - At@Ninv@A@x_orig\n",
    "        x_orig = x_next\n",
    "    return x_next"
   ]
  },
  {
   "cell_type": "code",
   "execution_count": 18,
   "metadata": {},
   "outputs": [],
   "source": [
    "def iterative_cobe2(A, Ninv, kap, n=10):\n",
    "    At = A.T\n",
    "    atai = sp.sparse.linalg.inv(At@A)\n",
    "    t1 = At@kap\n",
    "    t2 = atai@t1\n",
    "    t3 = A@t2\n",
    "    z = t3 - kap\n",
    "    print(\"Start iterations\")\n",
    "    x_orig = cobe_makemap(A, Ninv, kap)\n",
    "    for i in tqdm(range(n)):\n",
    "        x_next = x_orig + At@Ninv@z - (At@Ninv@A)@x_orig\n",
    "        x_orig = x_next\n",
    "    return x_next"
   ]
  },
  {
   "cell_type": "code",
   "execution_count": 19,
   "metadata": {},
   "outputs": [],
   "source": [
    "# Following WIENER 2\n",
    "def wiener2_makemap(A, Ninv, Sinv, x):\n",
    "    print(\"Making map\")\n",
    "    At = A.T\n",
    "    print(\"Calculating W....\")\n",
    "    X = Sinv + At@Ninv@A\n",
    "    Y = At@Ninv@x\n",
    "    wmap = optimal_makemap(X, Y)[0]\n",
    "    return wmap"
   ]
  },
  {
   "cell_type": "code",
   "execution_count": 20,
   "metadata": {},
   "outputs": [],
   "source": [
    "# Following TE97\n",
    "def te97_makemap(A, Ninv, Sinv, x):\n",
    "    print(\"Making map\")\n",
    "    At = A.T\n",
    "    print(\"Calculating W....\")\n",
    "    X = Sinv + At@Ninv@A\n",
    "    Y = At@Ninv\n",
    "    ya = Y@A\n",
    "    print(\"Making lambda\")\n",
    "    inv_lambdas = X.diagonal()/ya.diagonal()\n",
    "    clean_lambs = np.array(list(map(lambda x: x if ~np.isnan(x) else 0, inv_lambdas)))\n",
    "    big_lambda = make_diag_inverse(clean_lambs)\n",
    "    print(\"Made lambda\")\n",
    "    rhs = big_lambda@X\n",
    "    lhs = Y@x\n",
    "    temap = optimal_makemap(rhs, lhs)[0]\n",
    "    return temap"
   ]
  },
  {
   "cell_type": "code",
   "execution_count": 21,
   "metadata": {},
   "outputs": [],
   "source": [
    "def iterative_wiener2(A, Ninv, Sinv, kap, n=10):\n",
    "    At = A.T\n",
    "    atai = sp.sparse.linalg.inv(At@A)\n",
    "    print(\"Start iterations\")\n",
    "    t1 = At@kap\n",
    "    t2 = atai@t1\n",
    "    t3 = A@t2 - kap\n",
    "    print(\"got to t3\")\n",
    "    t4 = At@Ninv@t3\n",
    "    t5 = Sinv@atai@t1\n",
    "    print(\"got past t5\")\n",
    "    u = t4 - t5\n",
    "    x_orig = wiener2_makemap(A, Ninv, Sinv, kap)\n",
    "    for i in tqdm(range(n)):\n",
    "        x_next = x_orig + u - (Sinv+At@Ninv@A)@x_orig\n",
    "        x_orig = x_next\n",
    "    return x_next"
   ]
  },
  {
   "cell_type": "code",
   "execution_count": 22,
   "metadata": {},
   "outputs": [],
   "source": [
    "# Wrapper function for scipy sparse lsmr\n",
    "def optimal_makemap(A, b):\n",
    "    print(\"running solver\")\n",
    "    mp = sp.sparse.linalg.lsmr(A,b)\n",
    "    return mp"
   ]
  },
  {
   "cell_type": "code",
   "execution_count": 23,
   "metadata": {},
   "outputs": [],
   "source": [
    "# Create map given signal and weight\n",
    "def mid_makemap(s,w):\n",
    "    fullmap = s/w\n",
    "    midmap = np.array(list(map(lambda x: x if ~np.isnan(x) else 0, fullmap)))\n",
    "    return midmap"
   ]
  },
  {
   "cell_type": "code",
   "execution_count": 24,
   "metadata": {},
   "outputs": [],
   "source": [
    "# Given a small array of relevant pixels (pixid), create a full sized kappa map.\n",
    "def small2big(data, pixd):\n",
    "    big = np.zeros(Npix)\n",
    "    big[pixd] = data\n",
    "    return big"
   ]
  },
  {
   "cell_type": "code",
   "execution_count": 25,
   "metadata": {},
   "outputs": [],
   "source": [
    "# COBE map\n",
    "def cobe(A, kappa, noise):\n",
    "    N = make_diag_inverse(noise)\n",
    "    dat = cobe_makemap(A, N, kappa)\n",
    "#     cobemap = small2big(dat)\n",
    "#     c1, c2 = make_plots(true_kap, cobemap, False, 'COBE')\n",
    "    return dat"
   ]
  },
  {
   "cell_type": "code",
   "execution_count": 26,
   "metadata": {},
   "outputs": [],
   "source": [
    "def just_wienermap(A, kappa, noise, pxd):\n",
    "    Ninv = make_diag_inverse(noise)\n",
    "#     Sinv = make_diag_inverse(Xi(0)*np.ones(A.shape[1]))\n",
    "    Sinv = make_diag_inverse(np.var(kappa)*np.ones(A.shape[1]))\n",
    "#     Sinv = make_diag_inverse(kappa)\n",
    "    dat = wiener2_makemap(A, Ninv, Sinv, kappa)\n",
    "#     dat = te97_makemap(A, Ninv, Sinv, kappa)\n",
    "#     dat = iterative_wiener2(A, Ninv, Sinv, kappa, 10)\n",
    "    wienermap = small2big(dat, pxd)\n",
    "    return wienermap"
   ]
  },
  {
   "cell_type": "code",
   "execution_count": 27,
   "metadata": {},
   "outputs": [],
   "source": [
    "def just_midmap(id1, id2, mpoints, kappa, noisevar):\n",
    "    np1, np2 = mid_setup(id1, id2, mpoints)\n",
    "    s,w = big_mid(np1, np2, kappa, noisevar)\n",
    "    midmap = mid_makemap(-s,w)\n",
    "    return midmap"
   ]
  },
  {
   "cell_type": "code",
   "execution_count": 28,
   "metadata": {},
   "outputs": [],
   "source": [
    "def cost_function(A, kappa):\n",
    "    J = lambda x : np.linalg.norm(A@x-kappa)**2\n",
    "    return J"
   ]
  },
  {
   "cell_type": "code",
   "execution_count": 29,
   "metadata": {},
   "outputs": [],
   "source": [
    "def grad_J(A, kappa):\n",
    "    nabla = lambda x: 2*A.T@(A@x-kappa)\n",
    "    return nabla"
   ]
  },
  {
   "cell_type": "code",
   "execution_count": 30,
   "metadata": {},
   "outputs": [],
   "source": [
    "def just_adam(A, kappa, theta_0, eta=1e-4, epsilon=1e-8, beta1 = .9, beta2 = .999,  iterations=1):\n",
    "    J = cost_function(A, kappa)\n",
    "    Gtt = np.zeros(A.shape[1])\n",
    "    c0 = J(theta_0)\n",
    "    \n",
    "    xs = [Gtt]\n",
    "    cs = [c0]\n",
    "    ms = [Gtt]\n",
    "    vs = [Gtt]\n",
    "    kmax = kappa.shape[0]\n",
    "    for i in range(iterations):\n",
    "        test_i = np.random.randint(0, kmax, size=int(np.floor(kmax/10)))\n",
    "        for ind,j in tqdm(enumerate(test_i)):\n",
    "            x0 = xs[-1]\n",
    "            m0 = ms[-1]\n",
    "            v0 = vs[-1]\n",
    "            \n",
    "            real_ind = i*kmax+ind\n",
    "            \n",
    "            grad = grad_J(A[j], kappa[j])\n",
    "            gt = grad(x0)\n",
    "            \n",
    "            mt = beta1*m0 + (1 - beta1)*gt\n",
    "            vt = beta2*v0 + (1 - beta2)*gt**2\n",
    "            \n",
    "            mhat = mt/(1 - beta1**real_ind)\n",
    "            vhat = vt/(1 - beta2**real_ind)\n",
    "            \n",
    "            delta_x = -eta/(np.sqrt(vhat) + epsilon)*mhat\n",
    "            xprime = x0 + delta_x\n",
    "            cs.append(J(xprime))\n",
    "            xs.append(xprime)\n",
    "            ms.append(mt)\n",
    "            vs.append(vt)\n",
    "    return xs, cs"
   ]
  },
  {
   "cell_type": "code",
   "execution_count": 31,
   "metadata": {},
   "outputs": [],
   "source": [
    "def just_fgd(A, kappa, theta_0, eta=1e-5, iterations=500):\n",
    "    J = cost_function(A, kappa)\n",
    "    grad = grad_J(A, kappa)\n",
    "    xs = [theta_0]\n",
    "    c0 = J(theta_0)\n",
    "    cs = [c0]\n",
    "    for i in tqdm(range(iterations)):\n",
    "        x0 = xs[-1]\n",
    "        xprime = x0 - eta*grad(x0)\n",
    "        cs.append(J(xprime))\n",
    "        xs.append(xprime)\n",
    "    return xs, cs"
   ]
  },
  {
   "cell_type": "code",
   "execution_count": 32,
   "metadata": {},
   "outputs": [],
   "source": [
    "#Full ADAM map\n",
    "def adam(A, kappa, eta=1e-5, epsilon=1e-8, beta1=.9, beta2=.999, iters=1):\n",
    "    thet0 = np.zeros(A.shape[1])\n",
    "    maps, costs = adam_method(A, kappa, thet0, eta=1e-6, epsilon=1e-8, beta1=.9, beta2=.999, iterations=iters)\n",
    "    fin_map = maps[-1]\n",
    "    addel_map = small2big(fin_map)\n",
    "    a1, a2 = make_plots(true_kap, addel_map, False, 'ADAM')\n",
    "    return a1, a2"
   ]
  },
  {
   "cell_type": "code",
   "execution_count": 34,
   "metadata": {},
   "outputs": [],
   "source": [
    "#Full Gradient Descent map\n",
    "def fgd(A, kappa, noisevar, pxd, tk, iters=500, eta=1e-5):\n",
    "    thet0 = np.zeros(A.shape[1])\n",
    "    spnoise = sp.sparse.spdiags(1/np.sqrt(noisevar), 0, len(noisevar), len(noisevar))\n",
    "    aprime = spnoise * A\n",
    "    maps, costs = just_fgd(aprime, kappa, thet0, eta=eta, iterations=iters)\n",
    "    fin_map = maps[-1]\n",
    "    fgd_map = small2big(fin_map, pxd)\n",
    "    f1, f2 = make_plots(tk, fgd_map, False, 'FGD', cut_dipole=True)\n",
    "    return f1, f2"
   ]
  },
  {
   "cell_type": "code",
   "execution_count": 35,
   "metadata": {},
   "outputs": [],
   "source": [
    "# Wiener map\n",
    "def wiener(A, kappa, noise, pxd, tk):\n",
    "    wienermap = just_wienermap(A, kappa, noise, pxd)\n",
    "    w1, w2 = make_plots(tk, wienermap, False, 'Wiener', cut_dipole=True)\n",
    "    return w1, w2"
   ]
  },
  {
   "cell_type": "code",
   "execution_count": 36,
   "metadata": {},
   "outputs": [],
   "source": [
    "# Midpoint map \n",
    "def mid(id1, id2, points, kappa, noisevar, tk):\n",
    "    midmap = just_midmap(id1, id2, points, kappa, noisevar)\n",
    "    m1, m2 = make_plots(tk, midmap, False, 'Midpoint', cut_dipole=True)\n",
    "    return m1, m2"
   ]
  },
  {
   "cell_type": "code",
   "execution_count": 37,
   "metadata": {},
   "outputs": [],
   "source": [
    "# LSMR map method\n",
    "def direct_lsmr(A, kappa):\n",
    "    m = optimal_makemap(A, kappa)[0]\n",
    "    optmap = small2big(m)\n",
    "    optmap_test = optmap*-1\n",
    "    l1, l2 = make_plots(true_kap, optmap_test, False, 'lsmr')\n",
    "    return l1, l2"
   ]
  },
  {
   "cell_type": "code",
   "execution_count": 38,
   "metadata": {},
   "outputs": [],
   "source": [
    "def size_filter(qid1, qid2, points, cutoff=.1):\n",
    "    acceptable = np.zeros(len(qid1))\n",
    "    for i, v in enumerate(qid1):\n",
    "        p1 = Ang2Vec(*points[v])\n",
    "        p2 = Ang2Vec(*points[qid2[i]])\n",
    "        dist = np.linalg.norm(p1-p2)\n",
    "        if dist > cutoff:\n",
    "            acceptable[i] = 1\n",
    "    return acceptable"
   ]
  },
  {
   "cell_type": "code",
   "execution_count": 39,
   "metadata": {},
   "outputs": [],
   "source": [
    "def sevearl_ls(id1, id2, points, kappa):\n",
    "    cutoffs = np.array([0, .01, .03, .05, .07])\n",
    "    srads = np.array([.01, .03, .05, .07, .09])\n",
    "    pixid, hpix, pixdict, sigweight= optimal_setup(points, .1)\n",
    "    maps = np.zeros((5, hp.nside2npix(Nside)))\n",
    "    for i,v in enumerate(cutoffs):\n",
    "        l = size_filter(id1, id2, points, cutoff=v).astype('bool')\n",
    "        sradius = 1/180*np.pi\n",
    "        lid1 = np.array(id1)[l]\n",
    "        lid2 = np.array(id2)[l]\n",
    "        A = optimal_prime(lid1, lid2, kappa[l], srads[i], mpoints, noisevar, pixid)\n",
    "        thet0 = np.zeros(A.shape[1])\n",
    "        ms, _ = just_fgd(A, kappa[l], thet0, eta=1e-6, iterations=1000)\n",
    "        fin_map = small2big(ms[-1], pixid)\n",
    "        maps[i] = fin_map\n",
    "    return maps"
   ]
  },
  {
   "cell_type": "code",
   "execution_count": 40,
   "metadata": {},
   "outputs": [],
   "source": [
    "# Use all 4 methods to create clte/cltt and clte/sqrt plots\n",
    "def legend_plots(id1, id2, mpoints, f, k, n, pixd, l, tk, make_plot = True):\n",
    "#     l1, l2 = direct_lsmr(f, k)\n",
    "    w1, w2 = wiener(f, k[l], n[l], pixd, tk)\n",
    "    m1, m2 = mid(id1, id2, mpoints, k, n, tk)\n",
    "    f1, f2 = fgd(f, k[l], n[l], pixd, tk, 500, 1e-6)\n",
    "    \n",
    "    if make_plot:\n",
    "        fig, ax = plt.subplots(1,2, figsize=(10,5))\n",
    "\n",
    "        ax[0].plot(w1, label='wiener')\n",
    "        ax[0].plot(m1, label='mid')\n",
    "#         ax[0].plot(l1, label='lsmr')\n",
    "        ax[0].plot(f1, label='fgd')\n",
    "        ax[0].legend()\n",
    "        ax[0].set_title(\"clte/cltt\")\n",
    "        ax[1].plot(w2, label='wiener')\n",
    "        ax[1].plot(m2, label='mid')\n",
    "#         ax[1].plot(l2, label='lsmr')\n",
    "        ax[1].plot(f2, label='fgd')\n",
    "        ax[1].legend()\n",
    "        ax[1].set_title(\"clte/sqrt\")\n",
    "\n",
    "    return w1, w2, m1, m2, f1, f2\n",
    "    "
   ]
  },
  {
   "cell_type": "code",
   "execution_count": 63,
   "metadata": {},
   "outputs": [],
   "source": [
    "def mrun(amplitude, sigma, n=5, makeplots=True):\n",
    "    sradius = 1/180*np.pi\n",
    "    plots = np.zeros((6,3*Nside-2))\n",
    "    for i in range(n):\n",
    "        kappamap = setup_kappa(amplitude,sigma)\n",
    "        tkap = kappamap.A\n",
    "        tpoints, mpoints = setup_points(kappamap, 500, .1)\n",
    "        id1, id2, kappa_noiseless, noise, noisevar = make_kappa(tpoints, mpoints, 7/180*np.pi,noiseofs=1e-3,noisemult=1)\n",
    "        kappa=kappa_noiseless+noise\n",
    "        pixid, hpix, pixdict, sigweight= optimal_setup(mpoints, 3*sradius)\n",
    "        l = size_filter(id1, id2, mpoints, .015).astype('bool')\n",
    "        lid1 = np.array(id1)[l]\n",
    "        lid2 = np.array(id2)[l]\n",
    "        A = optimal_prime(lid1, lid2, kappa[l], 5*sradius , mpoints, noisevar, pixid, pixdict, hpix)\n",
    "        plots += legend_plots(id1, id2, mpoints, A, kappa, noisevar, pixid, l, tkap, False)\n",
    "        \n",
    "    w1, w2, m1, m2, f1, f2 = plots/n\n",
    "    \n",
    "    if makeplots:\n",
    "        fig, ax = plt.subplots(1,2, figsize=(10,5))\n",
    "#         ax[0].plot(l1, label='lsmr')\n",
    "        ax[0].plot(w1, label='wiener')\n",
    "        ax[0].plot(m1, label='mid')\n",
    "        ax[0].plot(f1, label='fgd')\n",
    "        ax[0].legend()\n",
    "        ax[0].set_title(\"clte/cltt\")\n",
    "#         ax[1].plot(l2, label='lsmr')\n",
    "        ax[1].plot(w2, label='wiener')\n",
    "        ax[1].plot(m2, label='mid')\n",
    "        ax[1].plot(f2, label='fgd')\n",
    "        ax[1].legend()\n",
    "        ax[1].set_title(\"clte/sqrt\")"
   ]
  },
  {
   "cell_type": "code",
   "execution_count": 47,
   "metadata": {},
   "outputs": [],
   "source": [
    "# Create kappa and clean the array\n",
    "# setup_kappa(amplitude, sigma)\n",
    "Ampl=1e-5\n",
    "Sigmal=100\n",
    "kappamap = setup_kappa(Ampl,Sigmal)\n",
    "true_kap = kappamap.A"
   ]
  },
  {
   "cell_type": "code",
   "execution_count": null,
   "metadata": {},
   "outputs": [],
   "source": [
    "%%capture\n",
    "# Distribute points using kappamap\n",
    "# setup_points(kappamap, size of side of square Number of points)\n",
    "tpoints, mpoints = setup_points(kappamap, 500, .1)"
   ]
  },
  {
   "cell_type": "code",
   "execution_count": null,
   "metadata": {},
   "outputs": [],
   "source": [
    "hp.gnomview(kappamap.A,reso=10)\n",
    "plt.plot(tpoints[:50,0]-np.pi/2,tpoints[:50,1],'r.',markersize=2)\n",
    "plt.plot(mpoints[:50,0]-np.pi/2,mpoints[:50,1],'y.',markersize=2)"
   ]
  },
  {
   "cell_type": "code",
   "execution_count": null,
   "metadata": {
    "scrolled": true
   },
   "outputs": [],
   "source": [
    "# Creates data vector and noise vector\n",
    "# make_kappa(tpoints, mpoints, search_radius)\n",
    "id1, id2, kappa_noiseless, noise, noisevar = make_kappa(tpoints, mpoints, 7/180*np.pi,noiseofs=1e-3,noisemult=1)\n",
    "kappa=kappa_noiseless+noise"
   ]
  },
  {
   "cell_type": "code",
   "execution_count": null,
   "metadata": {},
   "outputs": [],
   "source": [
    "# maybe_maps = sevearl_ls(id1, id2, mpoints, kappa)"
   ]
  },
  {
   "cell_type": "code",
   "execution_count": null,
   "metadata": {},
   "outputs": [],
   "source": [
    "sradius = 1/180*np.pi"
   ]
  },
  {
   "cell_type": "code",
   "execution_count": null,
   "metadata": {},
   "outputs": [],
   "source": [
    "pixid, hpix, pixdict, sigweight= optimal_setup(mpoints, 3*sradius)"
   ]
  },
  {
   "cell_type": "code",
   "execution_count": null,
   "metadata": {},
   "outputs": [],
   "source": [
    "# pixid, hpix, pixdict = prime_setup(mpoints)"
   ]
  },
  {
   "cell_type": "code",
   "execution_count": null,
   "metadata": {},
   "outputs": [],
   "source": [
    "l = size_filter(id1, id2, mpoints, sradius).astype('bool')"
   ]
  },
  {
   "cell_type": "code",
   "execution_count": null,
   "metadata": {},
   "outputs": [],
   "source": [
    "lid1 = np.array(id1)[l]\n",
    "lid2 = np.array(id2)[l]"
   ]
  },
  {
   "cell_type": "code",
   "execution_count": null,
   "metadata": {},
   "outputs": [],
   "source": [
    "# Run optimal estimator\n",
    "# optimal(id1, id2, kappa, search_radius for estimator, noise)\n",
    "A = optimal_prime(lid1, lid2, kappa[l], 5*sradius , mpoints, noisevar, pixid, pixdict, hpix)\n",
    "# A = optimal(id1, id2, kappa, 5*sradius, mpoints, noisevar, pixid, pixdict, hpix)"
   ]
  },
  {
   "cell_type": "code",
   "execution_count": null,
   "metadata": {},
   "outputs": [],
   "source": [
    "wfm = just_wienermap(A, kappa[l], noisevar[l], pixid)"
   ]
  },
  {
   "cell_type": "code",
   "execution_count": null,
   "metadata": {},
   "outputs": [],
   "source": [
    "make_plots(true_kap, wfm, True);"
   ]
  },
  {
   "cell_type": "code",
   "execution_count": null,
   "metadata": {},
   "outputs": [],
   "source": [
    "res=A@kappamap.A[pixid]\n",
    "plt.plot(res,kappa_noiseless[l],'b.')\n",
    "stats.pearsonr(res, kappa_noiseless[l])"
   ]
  },
  {
   "cell_type": "code",
   "execution_count": null,
   "metadata": {},
   "outputs": [],
   "source": [
    "w1, w2 = wiener(A, kappa[l], noisevar[l], pixid, true_kap)\n",
    "# # # l1, l2 = direct_lsmr(A, kappa)\n",
    "# m1, m2 = mid(id1, id2, mpoints, kappa, noisevar, true_kap)\n",
    "# f1, f2 = fgd(A, kappa[l], noisevar[l], pixid, true_kap, 500)\n",
    "# t1, t2 = make_plots(true_kap, ktest, False)\n",
    "# a1, a2 = adam(A, kappa)"
   ]
  },
  {
   "cell_type": "code",
   "execution_count": null,
   "metadata": {},
   "outputs": [],
   "source": [
    "fig, ax = plt.subplots(1,2, figsize=(10,5))\n",
    "ax[0].plot(w1, label='wiener')\n",
    "ax[0].plot(m1, label='mid')\n",
    "# ax[0].plot(f1, label='fgd')\n",
    "# ax[0].plot(t1, label='best')\n",
    "ax[0].legend()\n",
    "ax[0].set_title(\"clte/cltt\")\n",
    "ax[1].plot(w2, label='wiener')\n",
    "ax[1].plot(m2, label='mid')\n",
    "# ax[1].plot(f2, label='fgd')\n",
    "# ax[1].plot(t2, label='best')\n",
    "ax[1].legend()\n",
    "ax[1].set_title(\"clte/sqrt\")"
   ]
  },
  {
   "cell_type": "code",
   "execution_count": 64,
   "metadata": {},
   "outputs": [
    {
     "name": "stdout",
     "output_type": "stream",
     "text": [
      "Sigma is 0.000000 arcmin (0.000000 rad) \n",
      "-> fwhm is 0.000000 arcmin\n",
      "Sigma is 0.000000 arcmin (0.000000 rad) \n",
      "-> fwhm is 0.000000 arcmin\n",
      "almp:  [[ 0.00000000e+00+0.00000000e+00j  0.00000000e+00+0.00000000e+00j\n",
      "   0.00000000e+00+0.00000000e+00j ...  0.00000000e+00+0.00000000e+00j\n",
      "   0.00000000e+00+0.00000000e+00j  0.00000000e+00+0.00000000e+00j]\n",
      " [ 0.00000000e+00+0.00000000e+00j  0.00000000e+00+0.00000000e+00j\n",
      "              nan           +nanj ...             nan           +nanj\n",
      "              nan           +nanj             nan           +nanj]\n",
      " [ 6.12850298e-06+0.00000000e+00j -1.36983395e-04-2.34630058e-06j\n",
      "   0.00000000e+00+0.00000000e+00j ...             nan           +nanj\n",
      "              nan           +nanj             nan           +nanj]\n",
      " ...\n",
      " [-9.34836986e-11+0.00000000e+00j -1.18264216e-10-1.87544761e-13j\n",
      "   8.97885946e-11+2.27593781e-11j ...  0.00000000e+00+0.00000000e+00j\n",
      "              nan           +nanj             nan           +nanj]\n",
      " [-1.00809914e-10+0.00000000e+00j  8.78400529e-11+1.14325022e-11j\n",
      "   1.05453789e-10-8.99083608e-13j ... -5.25710682e-11-2.98228258e-11j\n",
      "   0.00000000e+00+0.00000000e+00j             nan           +nanj]\n",
      " [ 8.47336513e-11+0.00000000e+00j  8.73081232e-11-9.10181600e-13j\n",
      "  -8.19319779e-11-2.15507460e-11j ...  3.27460468e-11-8.14825718e-11j\n",
      "   4.82919073e-11+3.03228478e-11j  0.00000000e+00+0.00000000e+00j]]\n",
      "Sigma is 0.000000 arcmin (0.000000 rad) \n",
      "-> fwhm is 0.000000 arcmin\n",
      "Sigma is 0.000000 arcmin (0.000000 rad) \n",
      "-> fwhm is 0.000000 arcmin\n",
      "Sigma is 0.000000 arcmin (0.000000 rad) \n",
      "-> fwhm is 0.000000 arcmin\n"
     ]
    },
    {
     "data": {
      "application/vnd.jupyter.widget-view+json": {
       "model_id": "22ec08f6bdad4d51acb1b0d6be34a509",
       "version_major": 2,
       "version_minor": 0
      },
      "text/plain": [
       "HBox(children=(IntProgress(value=0, max=500), HTML(value='')))"
      ]
     },
     "metadata": {},
     "output_type": "display_data"
    },
    {
     "name": "stdout",
     "output_type": "stream",
     "text": [
      "\n"
     ]
    },
    {
     "data": {
      "application/vnd.jupyter.widget-view+json": {
       "model_id": "20694a787acd41c3ac918e208a1f3924",
       "version_major": 2,
       "version_minor": 0
      },
      "text/plain": [
       "HBox(children=(IntProgress(value=0, max=75140), HTML(value='')))"
      ]
     },
     "metadata": {},
     "output_type": "display_data"
    },
    {
     "name": "stdout",
     "output_type": "stream",
     "text": [
      "\n",
      "Creating A matrix...\n",
      "Making map\n",
      "Calculating W....\n",
      "running solver\n"
     ]
    },
    {
     "data": {
      "application/vnd.jupyter.widget-view+json": {
       "model_id": "18b330d4b873492992a6251fdd99bbe9",
       "version_major": 2,
       "version_minor": 0
      },
      "text/plain": [
       "HBox(children=(IntProgress(value=0, max=77226), HTML(value='')))"
      ]
     },
     "metadata": {},
     "output_type": "display_data"
    },
    {
     "name": "stdout",
     "output_type": "stream",
     "text": [
      "\n"
     ]
    },
    {
     "name": "stderr",
     "output_type": "stream",
     "text": [
      "/Users/pecom/miniconda3/envs/astro/lib/python3.7/site-packages/ipykernel_launcher.py:3: RuntimeWarning: divide by zero encountered in true_divide\n",
      "  This is separate from the ipykernel package so we can avoid doing imports until\n",
      "/Users/pecom/miniconda3/envs/astro/lib/python3.7/site-packages/ipykernel_launcher.py:3: RuntimeWarning: invalid value encountered in true_divide\n",
      "  This is separate from the ipykernel package so we can avoid doing imports until\n"
     ]
    },
    {
     "data": {
      "application/vnd.jupyter.widget-view+json": {
       "model_id": "a9e79f88b2a7457caf1b543166a371a4",
       "version_major": 2,
       "version_minor": 0
      },
      "text/plain": [
       "HBox(children=(IntProgress(value=0, max=500), HTML(value='')))"
      ]
     },
     "metadata": {},
     "output_type": "display_data"
    },
    {
     "name": "stdout",
     "output_type": "stream",
     "text": [
      "\n"
     ]
    },
    {
     "data": {
      "image/png": "[encoded data removed]",
      "text/plain": [
       "<Figure size 720x360 with 2 Axes>"
      ]
     },
     "metadata": {
      "image/png": {
       "height": 318,
       "width": 610
      },
      "needs_background": "light"
     },
     "output_type": "display_data"
    }
   ],
   "source": [
    "mrun(Ampl, Sigmal, n=1, makeplots=True)"
   ]
  },
  {
   "cell_type": "code",
   "execution_count": null,
   "metadata": {},
   "outputs": [],
   "source": [
    "# Create plots\n",
    "w1, w2, m1, m2, f1, f2 = legend_plots(id1, id2, mpoints, A, kappa, noisevar, pixid, l, true_kap, True)"
   ]
  },
  {
   "cell_type": "code",
   "execution_count": null,
   "metadata": {},
   "outputs": [],
   "source": [
    "len(w2)"
   ]
  },
  {
   "cell_type": "code",
   "execution_count": null,
   "metadata": {},
   "outputs": [],
   "source": [
    "_ = multi_run(1, 500, 7, 3, True, 1e-05, 100, 1e-3, 1)"
   ]
  },
  {
   "cell_type": "code",
   "execution_count": null,
   "metadata": {},
   "outputs": [],
   "source": [
    "# a=1e-5 n=1e-8 wiener,cobe,lsmr fail\n",
    "# a=1e-5 n=1e-10 wiener,cobe,lsmr fail\n",
    "# a=1e-5 n=1e-5 wiener,cobe,lsmr fail\n",
    "# a=1e-5 n=1e-3 wiener,cobe,lsmr fail\n",
    "# a=1e-8 n=1e-3 lsmr fail\n",
    "# a=1e-8 n=1e-5 all work!\n",
    "# a=1e-8 n=1e-8 cobe, lsmr fail\n",
    "# a=1e-8 n=1e-10 wiener fails"
   ]
  },
  {
   "cell_type": "code",
   "execution_count": null,
   "metadata": {},
   "outputs": [],
   "source": [
    "s, w = big_mid(np1, np2, kappa, noisevar)\n",
    "k = -mid_makemap(s,w)"
   ]
  },
  {
   "cell_type": "code",
   "execution_count": null,
   "metadata": {},
   "outputs": [],
   "source": [
    "s,w = circ_mid(np1, np2, kappa, noisevar, 5/180*np.pi)\n",
    "l = -mid_makemap(s,w)"
   ]
  },
  {
   "cell_type": "code",
   "execution_count": null,
   "metadata": {},
   "outputs": [],
   "source": [
    "make_plots(true_kap, l, True);"
   ]
  },
  {
   "cell_type": "code",
   "execution_count": null,
   "metadata": {},
   "outputs": [],
   "source": [
    "make_plots(true_kap, k, True);"
   ]
  },
  {
   "cell_type": "code",
   "execution_count": null,
   "metadata": {},
   "outputs": [],
   "source": [
    "Ampl=1e-5\n",
    "Sigmal=100"
   ]
  },
  {
   "cell_type": "code",
   "execution_count": null,
   "metadata": {},
   "outputs": [],
   "source": [
    "runs = multi_run(1, 500, 5, 5, True, 1e-5,100,1e-2,1)"
   ]
  },
  {
   "cell_type": "code",
   "execution_count": null,
   "metadata": {},
   "outputs": [],
   "source": [
    "np1, np2 = mid_setup(id1, id2, mpoints)\n",
    "s,w = big_mid(np1, np2, kappa, noisevar)\n",
    "midmap = mid_makemap(-s,w)"
   ]
  },
  {
   "cell_type": "code",
   "execution_count": null,
   "metadata": {},
   "outputs": [],
   "source": [
    "np.nonzero(midmap)[0].shape"
   ]
  },
  {
   "cell_type": "code",
   "execution_count": null,
   "metadata": {},
   "outputs": [],
   "source": [
    "len(pixid)"
   ]
  },
  {
   "cell_type": "code",
   "execution_count": null,
   "metadata": {},
   "outputs": [],
   "source": [
    "acceptable = np.zeros(len(id1))\n",
    "for i, v in enumerate(id1):\n",
    "    p1 = Ang2Vec(*tpoints[v])\n",
    "    p2 = Ang2Vec(*tpoints[id2[i]])\n",
    "    dist = np.linalg.norm(p1-p2)\n",
    "    acceptable[i] = dist"
   ]
  },
  {
   "cell_type": "code",
   "execution_count": null,
   "metadata": {},
   "outputs": [],
   "source": [
    "plt.hist(acceptable)"
   ]
  },
  {
   "cell_type": "code",
   "execution_count": null,
   "metadata": {},
   "outputs": [],
   "source": []
  }
 ],
 "metadata": {
  "kernelspec": {
   "display_name": "Python 3",
   "language": "python",
   "name": "python3"
  },
  "language_info": {
   "codemirror_mode": {
    "name": "ipython",
    "version": 3
   },
   "file_extension": ".py",
   "mimetype": "text/x-python",
   "name": "python",
   "nbconvert_exporter": "python",
   "pygments_lexer": "ipython3",
   "version": "3.7.2"
  }
 },
 "nbformat": 4,
 "nbformat_minor": 4
}
